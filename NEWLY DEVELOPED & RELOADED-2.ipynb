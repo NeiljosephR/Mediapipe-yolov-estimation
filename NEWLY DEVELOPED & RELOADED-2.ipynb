{
 "cells": [
  {
   "cell_type": "code",
   "execution_count": 1,
   "id": "edb5583d",
   "metadata": {},
   "outputs": [
    {
     "name": "stdout",
     "output_type": "stream",
     "text": [
      "Requirement already satisfied: ultralytics in c:\\users\\kavitha joseph\\downloads\\.ipynb_checkpoints\\lib\\site-packages (8.1.1)\n",
      "Requirement already satisfied: matplotlib>=3.3.0 in c:\\users\\kavitha joseph\\downloads\\.ipynb_checkpoints\\lib\\site-packages (from ultralytics) (3.7.2)\n",
      "Requirement already satisfied: numpy>=1.22.2 in c:\\users\\kavitha joseph\\downloads\\.ipynb_checkpoints\\lib\\site-packages (from ultralytics) (1.24.3)\n",
      "Requirement already satisfied: opencv-python>=4.6.0 in c:\\users\\kavitha joseph\\downloads\\.ipynb_checkpoints\\lib\\site-packages (from ultralytics) (4.9.0.80)\n",
      "Requirement already satisfied: pillow>=7.1.2 in c:\\users\\kavitha joseph\\downloads\\.ipynb_checkpoints\\lib\\site-packages (from ultralytics) (10.2.0)\n",
      "Requirement already satisfied: pyyaml>=5.3.1 in c:\\users\\kavitha joseph\\downloads\\.ipynb_checkpoints\\lib\\site-packages (from ultralytics) (6.0)\n",
      "Requirement already satisfied: requests>=2.23.0 in c:\\users\\kavitha joseph\\downloads\\.ipynb_checkpoints\\lib\\site-packages (from ultralytics) (2.31.0)\n",
      "Requirement already satisfied: scipy>=1.4.1 in c:\\users\\kavitha joseph\\downloads\\.ipynb_checkpoints\\lib\\site-packages (from ultralytics) (1.11.1)\n",
      "Requirement already satisfied: torch>=1.8.0 in c:\\users\\kavitha joseph\\downloads\\.ipynb_checkpoints\\lib\\site-packages (from ultralytics) (2.1.2)\n",
      "Requirement already satisfied: torchvision>=0.9.0 in c:\\users\\kavitha joseph\\downloads\\.ipynb_checkpoints\\lib\\site-packages (from ultralytics) (0.16.2)\n",
      "Requirement already satisfied: tqdm>=4.64.0 in c:\\users\\kavitha joseph\\downloads\\.ipynb_checkpoints\\lib\\site-packages (from ultralytics) (4.65.0)\n",
      "Requirement already satisfied: psutil in c:\\users\\kavitha joseph\\downloads\\.ipynb_checkpoints\\lib\\site-packages (from ultralytics) (5.9.0)\n",
      "Requirement already satisfied: py-cpuinfo in c:\\users\\kavitha joseph\\downloads\\.ipynb_checkpoints\\lib\\site-packages (from ultralytics) (8.0.0)\n",
      "Requirement already satisfied: thop>=0.1.1 in c:\\users\\kavitha joseph\\downloads\\.ipynb_checkpoints\\lib\\site-packages (from ultralytics) (0.1.1.post2209072238)\n",
      "Requirement already satisfied: pandas>=1.1.4 in c:\\users\\kavitha joseph\\downloads\\.ipynb_checkpoints\\lib\\site-packages (from ultralytics) (2.0.3)\n",
      "Requirement already satisfied: seaborn>=0.11.0 in c:\\users\\kavitha joseph\\downloads\\.ipynb_checkpoints\\lib\\site-packages (from ultralytics) (0.12.2)\n",
      "Requirement already satisfied: hub-sdk>=0.0.2 in c:\\users\\kavitha joseph\\downloads\\.ipynb_checkpoints\\lib\\site-packages (from ultralytics) (0.0.3)\n",
      "Requirement already satisfied: contourpy>=1.0.1 in c:\\users\\kavitha joseph\\downloads\\.ipynb_checkpoints\\lib\\site-packages (from matplotlib>=3.3.0->ultralytics) (1.0.5)\n",
      "Requirement already satisfied: cycler>=0.10 in c:\\users\\kavitha joseph\\downloads\\.ipynb_checkpoints\\lib\\site-packages (from matplotlib>=3.3.0->ultralytics) (0.11.0)\n",
      "Requirement already satisfied: fonttools>=4.22.0 in c:\\users\\kavitha joseph\\downloads\\.ipynb_checkpoints\\lib\\site-packages (from matplotlib>=3.3.0->ultralytics) (4.25.0)\n",
      "Requirement already satisfied: kiwisolver>=1.0.1 in c:\\users\\kavitha joseph\\downloads\\.ipynb_checkpoints\\lib\\site-packages (from matplotlib>=3.3.0->ultralytics) (1.4.4)\n",
      "Requirement already satisfied: packaging>=20.0 in c:\\users\\kavitha joseph\\downloads\\.ipynb_checkpoints\\lib\\site-packages (from matplotlib>=3.3.0->ultralytics) (23.1)\n",
      "Requirement already satisfied: pyparsing<3.1,>=2.3.1 in c:\\users\\kavitha joseph\\appdata\\roaming\\python\\python311\\site-packages (from matplotlib>=3.3.0->ultralytics) (2.4.7)\n",
      "Requirement already satisfied: python-dateutil>=2.7 in c:\\users\\kavitha joseph\\downloads\\.ipynb_checkpoints\\lib\\site-packages (from matplotlib>=3.3.0->ultralytics) (2.8.2)\n",
      "Requirement already satisfied: pytz>=2020.1 in c:\\users\\kavitha joseph\\downloads\\.ipynb_checkpoints\\lib\\site-packages (from pandas>=1.1.4->ultralytics) (2023.3.post1)\n",
      "Requirement already satisfied: tzdata>=2022.1 in c:\\users\\kavitha joseph\\downloads\\.ipynb_checkpoints\\lib\\site-packages (from pandas>=1.1.4->ultralytics) (2023.3)\n",
      "Requirement already satisfied: charset-normalizer<4,>=2 in c:\\users\\kavitha joseph\\downloads\\.ipynb_checkpoints\\lib\\site-packages (from requests>=2.23.0->ultralytics) (2.0.4)\n",
      "Requirement already satisfied: idna<4,>=2.5 in c:\\users\\kavitha joseph\\downloads\\.ipynb_checkpoints\\lib\\site-packages (from requests>=2.23.0->ultralytics) (3.4)\n",
      "Requirement already satisfied: urllib3<3,>=1.21.1 in c:\\users\\kavitha joseph\\downloads\\.ipynb_checkpoints\\lib\\site-packages (from requests>=2.23.0->ultralytics) (1.26.16)\n",
      "Requirement already satisfied: certifi>=2017.4.17 in c:\\users\\kavitha joseph\\downloads\\.ipynb_checkpoints\\lib\\site-packages (from requests>=2.23.0->ultralytics) (2023.7.22)\n",
      "Requirement already satisfied: filelock in c:\\users\\kavitha joseph\\downloads\\.ipynb_checkpoints\\lib\\site-packages (from torch>=1.8.0->ultralytics) (3.9.0)\n",
      "Requirement already satisfied: typing-extensions in c:\\users\\kavitha joseph\\downloads\\.ipynb_checkpoints\\lib\\site-packages (from torch>=1.8.0->ultralytics) (4.7.1)\n",
      "Requirement already satisfied: sympy in c:\\users\\kavitha joseph\\downloads\\.ipynb_checkpoints\\lib\\site-packages (from torch>=1.8.0->ultralytics) (1.11.1)\n",
      "Requirement already satisfied: networkx in c:\\users\\kavitha joseph\\downloads\\.ipynb_checkpoints\\lib\\site-packages (from torch>=1.8.0->ultralytics) (3.1)\n",
      "Requirement already satisfied: jinja2 in c:\\users\\kavitha joseph\\downloads\\.ipynb_checkpoints\\lib\\site-packages (from torch>=1.8.0->ultralytics) (3.1.2)\n",
      "Requirement already satisfied: fsspec in c:\\users\\kavitha joseph\\downloads\\.ipynb_checkpoints\\lib\\site-packages (from torch>=1.8.0->ultralytics) (2023.4.0)\n",
      "Requirement already satisfied: colorama in c:\\users\\kavitha joseph\\downloads\\.ipynb_checkpoints\\lib\\site-packages (from tqdm>=4.64.0->ultralytics) (0.4.4)\n",
      "Requirement already satisfied: six>=1.5 in c:\\users\\kavitha joseph\\downloads\\.ipynb_checkpoints\\lib\\site-packages (from python-dateutil>=2.7->matplotlib>=3.3.0->ultralytics) (1.16.0)\n",
      "Requirement already satisfied: MarkupSafe>=2.0 in c:\\users\\kavitha joseph\\downloads\\.ipynb_checkpoints\\lib\\site-packages (from jinja2->torch>=1.8.0->ultralytics) (2.1.1)\n",
      "Requirement already satisfied: mpmath>=0.19 in c:\\users\\kavitha joseph\\downloads\\.ipynb_checkpoints\\lib\\site-packages (from sympy->torch>=1.8.0->ultralytics) (1.3.0)\n",
      "Note: you may need to restart the kernel to use updated packages.\n"
     ]
    }
   ],
   "source": [
    "pip install ultralytics"
   ]
  },
  {
   "cell_type": "code",
   "execution_count": 2,
   "id": "da284989",
   "metadata": {
    "scrolled": true
   },
   "outputs": [
    {
     "name": "stdout",
     "output_type": "stream",
     "text": [
      "Requirement already satisfied: yolo in c:\\users\\kavitha joseph\\downloads\\.ipynb_checkpoints\\lib\\site-packages (0.3.1)\n",
      "Requirement already satisfied: awscli in c:\\users\\kavitha joseph\\downloads\\.ipynb_checkpoints\\lib\\site-packages (from yolo) (1.32.19)\n",
      "Requirement already satisfied: boto3 in c:\\users\\kavitha joseph\\downloads\\.ipynb_checkpoints\\lib\\site-packages (from yolo) (1.34.19)\n",
      "Requirement already satisfied: botocore>=1.7.18 in c:\\users\\kavitha joseph\\downloads\\.ipynb_checkpoints\\lib\\site-packages (from yolo) (1.34.19)\n",
      "Requirement already satisfied: click in c:\\users\\kavitha joseph\\downloads\\.ipynb_checkpoints\\lib\\site-packages (from yolo) (8.0.4)\n",
      "Requirement already satisfied: docker in c:\\users\\kavitha joseph\\downloads\\.ipynb_checkpoints\\lib\\site-packages (from yolo) (7.0.0)\n",
      "Requirement already satisfied: jinja2 in c:\\users\\kavitha joseph\\downloads\\.ipynb_checkpoints\\lib\\site-packages (from yolo) (3.1.2)\n",
      "Requirement already satisfied: keyring==8.7.0 in c:\\users\\kavitha joseph\\downloads\\.ipynb_checkpoints\\lib\\site-packages (from yolo) (8.7)\n",
      "Requirement already satisfied: keyrings.alt in c:\\users\\kavitha joseph\\downloads\\.ipynb_checkpoints\\lib\\site-packages (from yolo) (5.0.0)\n",
      "Requirement already satisfied: requests in c:\\users\\kavitha joseph\\downloads\\.ipynb_checkpoints\\lib\\site-packages (from yolo) (2.31.0)\n",
      "Requirement already satisfied: ruamel.yaml in c:\\users\\kavitha joseph\\downloads\\.ipynb_checkpoints\\lib\\site-packages (from yolo) (0.17.21)\n",
      "Requirement already satisfied: tabulate in c:\\users\\kavitha joseph\\downloads\\.ipynb_checkpoints\\lib\\site-packages (from yolo) (0.8.10)\n",
      "Requirement already satisfied: voluptuous in c:\\users\\kavitha joseph\\downloads\\.ipynb_checkpoints\\lib\\site-packages (from yolo) (0.14.1)\n",
      "Requirement already satisfied: pywin32-ctypes in c:\\users\\kavitha joseph\\downloads\\.ipynb_checkpoints\\lib\\site-packages (from keyring==8.7.0->yolo) (0.2.0)\n",
      "Requirement already satisfied: jmespath<2.0.0,>=0.7.1 in c:\\users\\kavitha joseph\\downloads\\.ipynb_checkpoints\\lib\\site-packages (from botocore>=1.7.18->yolo) (0.10.0)\n",
      "Requirement already satisfied: python-dateutil<3.0.0,>=2.1 in c:\\users\\kavitha joseph\\downloads\\.ipynb_checkpoints\\lib\\site-packages (from botocore>=1.7.18->yolo) (2.8.2)\n",
      "Requirement already satisfied: urllib3<2.1,>=1.25.4 in c:\\users\\kavitha joseph\\downloads\\.ipynb_checkpoints\\lib\\site-packages (from botocore>=1.7.18->yolo) (1.26.16)\n",
      "Requirement already satisfied: docutils<0.17,>=0.10 in c:\\users\\kavitha joseph\\downloads\\.ipynb_checkpoints\\lib\\site-packages (from awscli->yolo) (0.16)\n",
      "Requirement already satisfied: s3transfer<0.11.0,>=0.10.0 in c:\\users\\kavitha joseph\\downloads\\.ipynb_checkpoints\\lib\\site-packages (from awscli->yolo) (0.10.0)\n",
      "Requirement already satisfied: PyYAML<6.1,>=3.10 in c:\\users\\kavitha joseph\\downloads\\.ipynb_checkpoints\\lib\\site-packages (from awscli->yolo) (6.0)\n",
      "Requirement already satisfied: colorama<0.4.5,>=0.2.5 in c:\\users\\kavitha joseph\\downloads\\.ipynb_checkpoints\\lib\\site-packages (from awscli->yolo) (0.4.4)\n",
      "Requirement already satisfied: rsa<4.8,>=3.1.2 in c:\\users\\kavitha joseph\\downloads\\.ipynb_checkpoints\\lib\\site-packages (from awscli->yolo) (4.7.2)\n",
      "Requirement already satisfied: packaging>=14.0 in c:\\users\\kavitha joseph\\downloads\\.ipynb_checkpoints\\lib\\site-packages (from docker->yolo) (23.1)\n",
      "Requirement already satisfied: pywin32>=304 in c:\\users\\kavitha joseph\\downloads\\.ipynb_checkpoints\\lib\\site-packages (from docker->yolo) (305.1)\n",
      "Requirement already satisfied: charset-normalizer<4,>=2 in c:\\users\\kavitha joseph\\downloads\\.ipynb_checkpoints\\lib\\site-packages (from requests->yolo) (2.0.4)\n",
      "Requirement already satisfied: idna<4,>=2.5 in c:\\users\\kavitha joseph\\downloads\\.ipynb_checkpoints\\lib\\site-packages (from requests->yolo) (3.4)\n",
      "Requirement already satisfied: certifi>=2017.4.17 in c:\\users\\kavitha joseph\\downloads\\.ipynb_checkpoints\\lib\\site-packages (from requests->yolo) (2023.7.22)\n",
      "Requirement already satisfied: MarkupSafe>=2.0 in c:\\users\\kavitha joseph\\downloads\\.ipynb_checkpoints\\lib\\site-packages (from jinja2->yolo) (2.1.1)\n",
      "Requirement already satisfied: jaraco.classes in c:\\users\\kavitha joseph\\downloads\\.ipynb_checkpoints\\lib\\site-packages (from keyrings.alt->yolo) (3.2.1)\n",
      "Requirement already satisfied: six>=1.5 in c:\\users\\kavitha joseph\\downloads\\.ipynb_checkpoints\\lib\\site-packages (from python-dateutil<3.0.0,>=2.1->botocore>=1.7.18->yolo) (1.16.0)\n",
      "Requirement already satisfied: pyasn1>=0.1.3 in c:\\users\\kavitha joseph\\downloads\\.ipynb_checkpoints\\lib\\site-packages (from rsa<4.8,>=3.1.2->awscli->yolo) (0.4.8)\n",
      "Requirement already satisfied: more-itertools in c:\\users\\kavitha joseph\\downloads\\.ipynb_checkpoints\\lib\\site-packages (from jaraco.classes->keyrings.alt->yolo) (8.12.0)\n",
      "Note: you may need to restart the kernel to use updated packages.\n"
     ]
    }
   ],
   "source": [
    "pip install yolo"
   ]
  },
  {
   "cell_type": "code",
   "execution_count": 3,
   "id": "fce186bf",
   "metadata": {},
   "outputs": [],
   "source": [
    "from ultralytics import YOLO"
   ]
  },
  {
   "cell_type": "code",
   "execution_count": 4,
   "id": "cf72ae32",
   "metadata": {},
   "outputs": [
    {
     "name": "stdout",
     "output_type": "stream",
     "text": [
      "Requirement already satisfied: import-tracker in c:\\users\\kavitha joseph\\downloads\\.ipynb_checkpoints\\lib\\site-packages (3.1.5)\n",
      "Note: you may need to restart the kernel to use updated packages.\n"
     ]
    }
   ],
   "source": [
    "pip install import-tracker"
   ]
  },
  {
   "cell_type": "code",
   "execution_count": 5,
   "id": "e5c0f359",
   "metadata": {
    "scrolled": true
   },
   "outputs": [
    {
     "name": "stderr",
     "output_type": "stream",
     "text": [
      "Using cache found in C:\\Users\\Kavitha Joseph/.cache\\torch\\hub\\ultralytics_yolov5_master\n",
      "YOLOv5  2024-1-21 Python-3.11.5 torch-2.1.2+cpu CPU\n",
      "\n",
      "Fusing layers... \n",
      "YOLOv5s summary: 213 layers, 7225885 parameters, 0 gradients, 16.4 GFLOPs\n",
      "Adding AutoShape... \n"
     ]
    }
   ],
   "source": [
    "import os\n",
    "import matplotlib.pyplot as plt\n",
    "\n",
    "from PIL import Image\n",
    "import cv2\n",
    "\n",
    "import mediapipe as mp\n",
    "from mediapipe.python.solutions import pose as mp_pose\n",
    "import torch\n",
    " \n",
    "yolo_model = torch.hub.load(\"ultralytics/yolov5\",\"yolov5s\")\n",
    "yolo_model.classes=[0]\n",
    "    \n"
   ]
  },
  {
   "cell_type": "code",
   "execution_count": null,
   "id": "6f679764",
   "metadata": {},
   "outputs": [],
   "source": [
    " "
   ]
  },
  {
   "cell_type": "code",
   "execution_count": 16,
   "id": "135bad22",
   "metadata": {},
   "outputs": [],
   "source": [
    "cap.release()\n",
    "# out.release()\n",
    "cv2.destroyAllWindows()"
   ]
  },
  {
   "cell_type": "code",
   "execution_count": 6,
   "id": "b707e298",
   "metadata": {},
   "outputs": [],
   "source": [
    "mp_drawing = mp.solutions.drawing_utils\n",
    "mp_pose =mp.solutions.pose"
   ]
  },
  {
   "cell_type": "code",
   "execution_count": 7,
   "id": "833e502b",
   "metadata": {},
   "outputs": [],
   "source": [
    "video_path =0"
   ]
  },
  {
   "cell_type": "code",
   "execution_count": 12,
   "id": "06051c61",
   "metadata": {
    "scrolled": false
   },
   "outputs": [
    {
     "ename": "KeyboardInterrupt",
     "evalue": "",
     "output_type": "error",
     "traceback": [
      "\u001b[1;31m---------------------------------------------------------------------------\u001b[0m",
      "\u001b[1;31mKeyboardInterrupt\u001b[0m                         Traceback (most recent call last)",
      "Cell \u001b[1;32mIn[12], line 42\u001b[0m\n\u001b[0;32m     39\u001b[0m \u001b[38;5;28;01mfor\u001b[39;00m (xmin, ymin, xmax,   ymax,  confidence,  clas) \u001b[38;5;129;01min\u001b[39;00m result\u001b[38;5;241m.\u001b[39mxyxy[\u001b[38;5;241m0\u001b[39m]\u001b[38;5;241m.\u001b[39mtolist():\n\u001b[0;32m     40\u001b[0m     \u001b[38;5;28;01mwith\u001b[39;00m mp_pose\u001b[38;5;241m.\u001b[39mPose(min_detection_confidence\u001b[38;5;241m=\u001b[39m\u001b[38;5;241m0.3\u001b[39m, min_tracking_confidence\u001b[38;5;241m=\u001b[39m\u001b[38;5;241m0.3\u001b[39m) \u001b[38;5;28;01mas\u001b[39;00m pose:\n\u001b[0;32m     41\u001b[0m         \u001b[38;5;66;03m#Media pose prediction ,we are \u001b[39;00m\n\u001b[1;32m---> 42\u001b[0m         results \u001b[38;5;241m=\u001b[39m pose\u001b[38;5;241m.\u001b[39mprocess(image[\u001b[38;5;28mint\u001b[39m(ymin)\u001b[38;5;241m+\u001b[39mMARGIN:\u001b[38;5;28mint\u001b[39m(ymax)\u001b[38;5;241m+\u001b[39mMARGIN,\u001b[38;5;28mint\u001b[39m(xmin)\u001b[38;5;241m+\u001b[39mMARGIN:\u001b[38;5;28mint\u001b[39m(xmax)\u001b[38;5;241m+\u001b[39mMARGIN:])\n\u001b[0;32m     43\u001b[0m         cv2\u001b[38;5;241m.\u001b[39mrectangle(image, (\u001b[38;5;28mint\u001b[39m(xmin), \u001b[38;5;28mint\u001b[39m(ymin)), (\u001b[38;5;28mint\u001b[39m(xmax), \u001b[38;5;28mint\u001b[39m(ymax)), (\u001b[38;5;241m0\u001b[39m, \u001b[38;5;241m255\u001b[39m, \u001b[38;5;241m0\u001b[39m), \u001b[38;5;241m2\u001b[39m)\n\u001b[0;32m     44\u001b[0m         cv2\u001b[38;5;241m.\u001b[39mputText(image, \u001b[38;5;124m'\u001b[39m\u001b[38;5;124mperson\u001b[39m\u001b[38;5;124m'\u001b[39m, (\u001b[38;5;28mint\u001b[39m(xmin), \u001b[38;5;28mint\u001b[39m(ymin) \u001b[38;5;241m-\u001b[39m \u001b[38;5;241m5\u001b[39m), cv2\u001b[38;5;241m.\u001b[39mFONT_HERSHEY_SIMPLEX, \u001b[38;5;241m0.5\u001b[39m, (\u001b[38;5;241m0\u001b[39m, \u001b[38;5;241m0\u001b[39m, \u001b[38;5;241m255\u001b[39m), \u001b[38;5;241m2\u001b[39m)\n",
      "File \u001b[1;32m~\\AppData\\Roaming\\Python\\Python311\\site-packages\\mediapipe\\python\\solutions\\pose.py:185\u001b[0m, in \u001b[0;36mPose.process\u001b[1;34m(self, image)\u001b[0m\n\u001b[0;32m    164\u001b[0m \u001b[38;5;28;01mdef\u001b[39;00m \u001b[38;5;21mprocess\u001b[39m(\u001b[38;5;28mself\u001b[39m, image: np\u001b[38;5;241m.\u001b[39mndarray) \u001b[38;5;241m-\u001b[39m\u001b[38;5;241m>\u001b[39m NamedTuple:\n\u001b[0;32m    165\u001b[0m \u001b[38;5;250m  \u001b[39m\u001b[38;5;124;03m\"\"\"Processes an RGB image and returns the pose landmarks on the most prominent person detected.\u001b[39;00m\n\u001b[0;32m    166\u001b[0m \n\u001b[0;32m    167\u001b[0m \u001b[38;5;124;03m  Args:\u001b[39;00m\n\u001b[1;32m   (...)\u001b[0m\n\u001b[0;32m    182\u001b[0m \u001b[38;5;124;03m         \"enable_segmentation\" is set to true.\u001b[39;00m\n\u001b[0;32m    183\u001b[0m \u001b[38;5;124;03m  \"\"\"\u001b[39;00m\n\u001b[1;32m--> 185\u001b[0m   results \u001b[38;5;241m=\u001b[39m \u001b[38;5;28msuper\u001b[39m()\u001b[38;5;241m.\u001b[39mprocess(input_data\u001b[38;5;241m=\u001b[39m{\u001b[38;5;124m'\u001b[39m\u001b[38;5;124mimage\u001b[39m\u001b[38;5;124m'\u001b[39m: image})\n\u001b[0;32m    186\u001b[0m   \u001b[38;5;28;01mif\u001b[39;00m results\u001b[38;5;241m.\u001b[39mpose_landmarks:  \u001b[38;5;66;03m# pytype: disable=attribute-error\u001b[39;00m\n\u001b[0;32m    187\u001b[0m     \u001b[38;5;28;01mfor\u001b[39;00m landmark \u001b[38;5;129;01min\u001b[39;00m results\u001b[38;5;241m.\u001b[39mpose_landmarks\u001b[38;5;241m.\u001b[39mlandmark:  \u001b[38;5;66;03m# pytype: disable=attribute-error\u001b[39;00m\n",
      "File \u001b[1;32m~\\AppData\\Roaming\\Python\\Python311\\site-packages\\mediapipe\\python\\solution_base.py:364\u001b[0m, in \u001b[0;36mSolutionBase.process\u001b[1;34m(self, input_data)\u001b[0m\n\u001b[0;32m    360\u001b[0m   \u001b[38;5;28;01mif\u001b[39;00m data\u001b[38;5;241m.\u001b[39mshape[\u001b[38;5;241m2\u001b[39m] \u001b[38;5;241m!=\u001b[39m RGB_CHANNELS:\n\u001b[0;32m    361\u001b[0m     \u001b[38;5;28;01mraise\u001b[39;00m \u001b[38;5;167;01mValueError\u001b[39;00m(\u001b[38;5;124m'\u001b[39m\u001b[38;5;124mInput image must contain three channel rgb data.\u001b[39m\u001b[38;5;124m'\u001b[39m)\n\u001b[0;32m    362\u001b[0m   \u001b[38;5;28mself\u001b[39m\u001b[38;5;241m.\u001b[39m_graph\u001b[38;5;241m.\u001b[39madd_packet_to_input_stream(\n\u001b[0;32m    363\u001b[0m       stream\u001b[38;5;241m=\u001b[39mstream_name,\n\u001b[1;32m--> 364\u001b[0m       packet\u001b[38;5;241m=\u001b[39m\u001b[38;5;28mself\u001b[39m\u001b[38;5;241m.\u001b[39m_make_packet(input_stream_type,\n\u001b[0;32m    365\u001b[0m                                data)\u001b[38;5;241m.\u001b[39mat(\u001b[38;5;28mself\u001b[39m\u001b[38;5;241m.\u001b[39m_simulated_timestamp))\n\u001b[0;32m    366\u001b[0m \u001b[38;5;28;01melse\u001b[39;00m:\n\u001b[0;32m    367\u001b[0m   \u001b[38;5;28mself\u001b[39m\u001b[38;5;241m.\u001b[39m_graph\u001b[38;5;241m.\u001b[39madd_packet_to_input_stream(\n\u001b[0;32m    368\u001b[0m       stream\u001b[38;5;241m=\u001b[39mstream_name,\n\u001b[0;32m    369\u001b[0m       packet\u001b[38;5;241m=\u001b[39m\u001b[38;5;28mself\u001b[39m\u001b[38;5;241m.\u001b[39m_make_packet(input_stream_type,\n\u001b[0;32m    370\u001b[0m                                data)\u001b[38;5;241m.\u001b[39mat(\u001b[38;5;28mself\u001b[39m\u001b[38;5;241m.\u001b[39m_simulated_timestamp))\n",
      "File \u001b[1;32m~\\AppData\\Roaming\\Python\\Python311\\site-packages\\mediapipe\\python\\solution_base.py:596\u001b[0m, in \u001b[0;36mSolutionBase._make_packet\u001b[1;34m(self, packet_data_type, data)\u001b[0m\n\u001b[0;32m    592\u001b[0m \u001b[38;5;28;01mdef\u001b[39;00m \u001b[38;5;21m_make_packet\u001b[39m(\u001b[38;5;28mself\u001b[39m, packet_data_type: PacketDataType,\n\u001b[0;32m    593\u001b[0m                  data: Any) \u001b[38;5;241m-\u001b[39m\u001b[38;5;241m>\u001b[39m packet\u001b[38;5;241m.\u001b[39mPacket:\n\u001b[0;32m    594\u001b[0m   \u001b[38;5;28;01mif\u001b[39;00m (packet_data_type \u001b[38;5;241m==\u001b[39m PacketDataType\u001b[38;5;241m.\u001b[39mIMAGE_FRAME \u001b[38;5;129;01mor\u001b[39;00m\n\u001b[0;32m    595\u001b[0m       packet_data_type \u001b[38;5;241m==\u001b[39m PacketDataType\u001b[38;5;241m.\u001b[39mIMAGE):\n\u001b[1;32m--> 596\u001b[0m     \u001b[38;5;28;01mreturn\u001b[39;00m \u001b[38;5;28mgetattr\u001b[39m(packet_creator, \u001b[38;5;124m'\u001b[39m\u001b[38;5;124mcreate_\u001b[39m\u001b[38;5;124m'\u001b[39m \u001b[38;5;241m+\u001b[39m packet_data_type\u001b[38;5;241m.\u001b[39mvalue)(\n\u001b[0;32m    597\u001b[0m         data, image_format\u001b[38;5;241m=\u001b[39mimage_frame\u001b[38;5;241m.\u001b[39mImageFormat\u001b[38;5;241m.\u001b[39mSRGB)\n\u001b[0;32m    598\u001b[0m   \u001b[38;5;28;01melse\u001b[39;00m:\n\u001b[0;32m    599\u001b[0m     \u001b[38;5;28;01mreturn\u001b[39;00m \u001b[38;5;28mgetattr\u001b[39m(packet_creator, \u001b[38;5;124m'\u001b[39m\u001b[38;5;124mcreate_\u001b[39m\u001b[38;5;124m'\u001b[39m \u001b[38;5;241m+\u001b[39m packet_data_type\u001b[38;5;241m.\u001b[39mvalue)(data)\n",
      "File \u001b[1;32m~\\AppData\\Roaming\\Python\\Python311\\site-packages\\mediapipe\\python\\packet_creator.py:147\u001b[0m, in \u001b[0;36mcreate_image_frame\u001b[1;34m(data, image_format, copy)\u001b[0m\n\u001b[0;32m    143\u001b[0m     warnings\u001b[38;5;241m.\u001b[39mwarn(\n\u001b[0;32m    144\u001b[0m         \u001b[38;5;124m'\u001b[39m\u001b[38;5;130;01m\\'\u001b[39;00m\u001b[38;5;124mdata\u001b[39m\u001b[38;5;130;01m\\'\u001b[39;00m\u001b[38;5;124m is still writeable. Taking a reference of the data to create ImageFrame packet is dangerous.\u001b[39m\u001b[38;5;124m'\u001b[39m,\n\u001b[0;32m    145\u001b[0m         \u001b[38;5;167;01mRuntimeWarning\u001b[39;00m, \u001b[38;5;241m2\u001b[39m)\n\u001b[0;32m    146\u001b[0m \u001b[38;5;66;03m# pylint:disable=protected-access\u001b[39;00m\n\u001b[1;32m--> 147\u001b[0m \u001b[38;5;28;01mreturn\u001b[39;00m _packet_creator\u001b[38;5;241m.\u001b[39m_create_image_frame_from_pixel_data(\n\u001b[0;32m    148\u001b[0m     image_format, data, copy)\n",
      "\u001b[1;31mKeyboardInterrupt\u001b[0m: "
     ]
    }
   ],
   "source": [
    "cap = cv2.VideoCapture(0)\n",
    "\n",
    "frame_width = int(cap.get(cv2.CAP_PROP_FRAME_WIDTH))\n",
    "frame_height = int(cap.get(cv2.CAP_PROP_FRAME_HEIGHT))\n",
    " \n",
    " \n",
    "while cap.isOpened():\n",
    "        \n",
    "        \n",
    "        \n",
    "#     print(cap.get(cv2.CAP_PROP_FPS))\n",
    "    \n",
    "    ret, frame = cap.read()\n",
    "   \n",
    "    \n",
    "    if not ret:\n",
    "        break\n",
    "    # Recolor Feed from RGB to BGR\n",
    "    image = cv2.cvtColor(frame, cv2.COLOR_BGR2RGB)\n",
    "    #making image writeable to false improves prediction\n",
    "    image.flags.writeable = False    \n",
    "\n",
    "    result= yolo_model(image)   \n",
    "    \n",
    "    \n",
    "    \n",
    "    \n",
    "    # Recolor image back to BGR for rendering\n",
    "    image.flags.writeable = True   \n",
    "    image = cv2.cvtColor(image, cv2.COLOR_RGB2BGR)\n",
    "    # print(result.xyxy)  # img1 predictions (tensor)\n",
    "\n",
    "    #This array will contain crops of images incase we need it \n",
    "    img_list =[]\n",
    "    \n",
    "    #we need some extra margin bounding box for human crops to be properly detected\n",
    "    MARGIN=10\n",
    "\n",
    "    for (xmin, ymin, xmax,   ymax,  confidence,  clas) in result.xyxy[0].tolist():\n",
    "        with mp_pose.Pose(min_detection_confidence=0.3, min_tracking_confidence=0.3) as pose:\n",
    "            #Media pose prediction ,we are \n",
    "            results = pose.process(image[int(ymin)+MARGIN:int(ymax)+MARGIN,int(xmin)+MARGIN:int(xmax)+MARGIN:])\n",
    "            cv2.rectangle(image, (int(xmin), int(ymin)), (int(xmax), int(ymax)), (0, 255, 0), 2)\n",
    "            cv2.putText(image, 'person', (int(xmin), int(ymin) - 5), cv2.FONT_HERSHEY_SIMPLEX, 0.5, (0, 0, 255), 2)\n",
    "            \n",
    "\n",
    " \n",
    "\n",
    "        #Draw landmarks on image, if this thing is confusing please consider going through numpy array slicing \n",
    "            \n",
    "            mp_drawing.draw_landmarks(image[int(ymin)+MARGIN:int(ymax)+MARGIN,int(xmin)+MARGIN:int(xmax)+MARGIN:], results.pose_landmarks, mp_pose.POSE_CONNECTIONS,mp_drawing.DrawingSpec(color=(245,117,66), thickness=2, circle_radius=2), mp_drawing.DrawingSpec(color=(245, 66, 230), thickness=2, circle_radius=2)) \n",
    "            img_list.append(image[int(ymin):int(ymax),int(xmin):int(xmax):])\n",
    "                \n",
    "     \n",
    "     \n",
    "      \n",
    "            cv2.imshow('Activity recognition', image ) \n",
    "  \n",
    "            delay_time=int(5000/4999)  \n",
    "  #     cv2.waitKey(delay_time)\n",
    "            if cv2.waitKey(1) & 0xFF == ord('q'):\n",
    "              break\n",
    "            \n",
    "            \n",
    "cap.release()\n",
    "# out.release()\n",
    "cv2.destroyAllWindows()\n",
    "\n"
   ]
  },
  {
   "cell_type": "code",
   "execution_count": 13,
   "id": "e9a06cb2",
   "metadata": {},
   "outputs": [],
   "source": [
    "cap.release()\n",
    "# out.release()\n",
    "cv2.destroyAllWindows()"
   ]
  },
  {
   "cell_type": "code",
   "execution_count": null,
   "id": "f82940fb",
   "metadata": {},
   "outputs": [],
   "source": []
  },
  {
   "cell_type": "code",
   "execution_count": null,
   "id": "3f786c78",
   "metadata": {},
   "outputs": [],
   "source": []
  }
 ],
 "metadata": {
  "kernelspec": {
   "display_name": "Python 3 (ipykernel)",
   "language": "python",
   "name": "python3"
  },
  "language_info": {
   "codemirror_mode": {
    "name": "ipython",
    "version": 3
   },
   "file_extension": ".py",
   "mimetype": "text/x-python",
   "name": "python",
   "nbconvert_exporter": "python",
   "pygments_lexer": "ipython3",
   "version": "3.11.5"
  }
 },
 "nbformat": 4,
 "nbformat_minor": 5
}
